{
 "cells": [
  {
   "cell_type": "markdown",
   "id": "99db739f-73d8-463e-9865-723037a7e709",
   "metadata": {},
   "source": [
    "## 공부한 내용 정리"
   ]
  },
  {
   "cell_type": "code",
   "execution_count": null,
   "id": "693006fe-9861-43a9-b5b7-31d8247312d1",
   "metadata": {},
   "outputs": [],
   "source": [
    "효과적인 알고리즘 설계 기법이 바로 머리에 떠오르지 않을 경우,\n",
    "문제를 해결할 수 있는 가장 단순한 방법이 억지 기법이다.\n"
   ]
  },
  {
   "cell_type": "markdown",
   "id": "a6ccacfd-aab3-4869-aeb0-cc13772240e0",
   "metadata": {},
   "source": [
    "### 5주차 실습 문제 예제 3.1"
   ]
  },
  {
   "cell_type": "markdown",
   "id": "2c3292d0-f58b-4dee-ba81-e30e45756665",
   "metadata": {},
   "source": [
    "# 문제 정의"
   ]
  },
  {
   "cell_type": "code",
   "execution_count": null,
   "id": "4468cf66-4801-46fb-824e-e4c9155fcfed",
   "metadata": {},
   "outputs": [],
   "source": [
    "리스트에 n개의 항목들이 들어 있다.\n",
    "이들을 키의 순서에 따라 오름차순으로 재배치하라."
   ]
  },
  {
   "cell_type": "markdown",
   "id": "fa026390-019d-469a-a0fc-31a7dc79241e",
   "metadata": {},
   "source": [
    "# 알고리즘 개요"
   ]
  },
  {
   "cell_type": "code",
   "execution_count": null,
   "id": "1f78ec70-4d4d-468e-8060-f547e379306e",
   "metadata": {},
   "outputs": [],
   "source": [
    "입력 리스트에서 가장 작은 항목을 찾고, 이것을 꺼내 정렬된 리스트에 순서대로 저장한다."
   ]
  },
  {
   "cell_type": "markdown",
   "id": "965d25cc-c876-4a9e-8580-3e3928ce6e16",
   "metadata": {},
   "source": [
    "#  알고리즘 설명"
   ]
  },
  {
   "cell_type": "code",
   "execution_count": null,
   "id": "1532228e-7b25-4d21-b4f8-4a1720d0b034",
   "metadata": {},
   "outputs": [],
   "source": [
    "정렬이 안된 리스트 인덱스마다 최솟값을 비교하여 가장 작은 수를 정렬된(추가된 새로운 리스트)에 저장을 한다. \n",
    "이 작업을 정렬이 안된 리스트가 공백 상태가 될 때까지 반복한다."
   ]
  },
  {
   "cell_type": "markdown",
   "id": "e9ed50f7-7ddb-41e1-92cf-89e1c9d72c6a",
   "metadata": {},
   "source": [
    "# 알고리즘 코드(단순)->억지기법"
   ]
  },
  {
   "cell_type": "code",
   "execution_count": 3,
   "id": "1be5c7fd-fd3b-4327-8e56-351668d14e7f",
   "metadata": {},
   "outputs": [
    {
     "name": "stdout",
     "output_type": "stream",
     "text": [
      "[2, 3, 5, 6, 10]\n"
     ]
    }
   ],
   "source": [
    "def find_smallest(arr):\n",
    "    smallest = arr[0]  # 첫 번째 항목을 최소값으로 설정\n",
    "    smallest_index = 0  # 최소값의 인덱스를 0으로 설정\n",
    "    for i in range(1, len(arr)):\n",
    "        if arr[i] < smallest:\n",
    "            smallest = arr[i]\n",
    "            smallest_index = i\n",
    "    return smallest_index\n",
    "\n",
    "def selection_sort(arr):\n",
    "    sorted_arr = []\n",
    "    for _ in range(len(arr)):\n",
    "        smallest = find_smallest(arr)  # 입력 리스트에서 가장 작은 항목을 찾음\n",
    "        sorted_arr.append(arr.pop(smallest))  # 찾은 항목을 입력 리스트에서 제거하고 정렬된 리스트에 추가\n",
    "    return sorted_arr\n",
    "\n",
    "# 예시\n",
    "input_list = [5, 3, 6, 2, 10]\n",
    "sorted_list = selection_sort(input_list)\n",
    "print(sorted_list)"
   ]
  },
  {
   "cell_type": "markdown",
   "id": "2924c1da-b58e-482d-a21c-c3f9284062f9",
   "metadata": {},
   "source": [
    "## 이 알고리즘의 문제점"
   ]
  },
  {
   "cell_type": "code",
   "execution_count": 2,
   "id": "6c0da884-4927-4948-9fb1-d4663dd4be69",
   "metadata": {},
   "outputs": [
    {
     "ename": "SyntaxError",
     "evalue": "invalid syntax (3963894758.py, line 1)",
     "output_type": "error",
     "traceback": [
      "\u001b[1;36m  Cell \u001b[1;32mIn[2], line 1\u001b[1;36m\u001b[0m\n\u001b[1;33m    공간 효율성 측면에서는 추가적인 저장공간이 필요하지 않도록 설계하는 것이 좋다\u001b[0m\n\u001b[1;37m       ^\u001b[0m\n\u001b[1;31mSyntaxError\u001b[0m\u001b[1;31m:\u001b[0m invalid syntax\n"
     ]
    }
   ],
   "source": [
    "공간 효율성 측면에서는 추가적인 저장공간이 필요하지 않도록 설계하는 것이 좋다\n",
    "따라서, 추가적인 리스트를 사용하지 않는 제자리 정렬을 사용한다."
   ]
  },
  {
   "cell_type": "markdown",
   "id": "bef3df38-0e9d-43a1-8673-229d8d8f5843",
   "metadata": {},
   "source": [
    "## 제자리 정렬"
   ]
  },
  {
   "cell_type": "code",
   "execution_count": null,
   "id": "617c3c6c-4d76-4ee7-b3d7-f0e15828c864",
   "metadata": {},
   "outputs": [],
   "source": [
    "정렬이 안 된 리스트에서 최솟값이 선택되면 이 값을 새로운 리스트에 저장하는 것이 아니라 첫 번째 요소와 교환한다."
   ]
  },
  {
   "cell_type": "markdown",
   "id": "b2d71f05-0907-474b-a8e9-896ee23038a3",
   "metadata": {},
   "source": [
    "# 손으로 푼 예제"
   ]
  },
  {
   "cell_type": "code",
   "execution_count": null,
   "id": "b6f93fd4-f48f-4437-b008-534ca09ca1d9",
   "metadata": {},
   "outputs": [],
   "source": []
  },
  {
   "cell_type": "markdown",
   "id": "4b4a471b-e758-4500-b32c-19399b506312",
   "metadata": {},
   "source": [
    "# 알고리즘 코드(제자리 정렬)"
   ]
  },
  {
   "cell_type": "code",
   "execution_count": 3,
   "id": "7c30b89d-7ed6-40df-a074-a77454bb5450",
   "metadata": {},
   "outputs": [
    {
     "name": "stdout",
     "output_type": "stream",
     "text": [
      "Original :  [5, 3, 8, 4, 9, 1, 6, 2, 7]\n",
      "Step  1=[1, 3, 8, 4, 9, 5, 6, 2, 7]\n",
      "Step  2=[1, 2, 8, 4, 9, 5, 6, 3, 7]\n",
      "Step  3=[1, 2, 3, 4, 9, 5, 6, 8, 7]\n",
      "Step  4=[1, 2, 3, 4, 9, 5, 6, 8, 7]\n",
      "Step  5=[1, 2, 3, 4, 5, 9, 6, 8, 7]\n",
      "Step  6=[1, 2, 3, 4, 5, 6, 9, 8, 7]\n",
      "Step  7=[1, 2, 3, 4, 5, 6, 7, 8, 9]\n",
      "Step  8=[1, 2, 3, 4, 5, 6, 7, 8, 9]\n",
      "Selection: [1, 2, 3, 4, 5, 6, 7, 8, 9]\n"
     ]
    }
   ],
   "source": [
    "def printStep(arr,val):\n",
    "    print(\"Step %2d=\"%val,end=\"\")\n",
    "    print(arr)\n",
    "def selection_sort(A):\n",
    "    n=len(A)\n",
    "    for i in range(n-1):\n",
    "        least=i\n",
    "        for j in range(i+1,n):\n",
    "            if(A[j]<A[least]):\n",
    "                least=j\n",
    "        A[i],A[least]=A[least],A[i]\n",
    "        printStep(A,i+1)"
   ]
  },
  {
   "cell_type": "markdown",
   "id": "9e1b8926-af3f-46de-bff9-4b9ad965ebc9",
   "metadata": {},
   "source": [
    "# 테스트 코드"
   ]
  },
  {
   "cell_type": "code",
   "execution_count": null,
   "id": "ca2268a3-7643-497c-8a97-3963402137e2",
   "metadata": {},
   "outputs": [],
   "source": [
    "data=[5,3,8,4,9,1,6,2,7]\n",
    "print(\"Original : \",data)\n",
    "selection_sort(data)\n",
    "print(\"Selection:\",data)"
   ]
  },
  {
   "cell_type": "markdown",
   "id": "5a719540-2dd2-4fa7-bea1-d25637c11c1e",
   "metadata": {},
   "source": [
    "# 수행 결과"
   ]
  },
  {
   "attachments": {
    "178a18b2-c005-499d-b557-0b75e9558aa2.PNG": {
     "image/png": "[encoded data removed]"
    }
   },
   "cell_type": "markdown",
   "id": "a95cb9e0-1f1a-4522-9f38-f32d9558cf1f",
   "metadata": {},
   "source": [
    "![3.PNG](attachment:178a18b2-c005-499d-b557-0b75e9558aa2.PNG)"
   ]
  },
  {
   "cell_type": "code",
   "execution_count": null,
   "id": "2a3e9da8-bdfc-445d-bd88-e621298f2f93",
   "metadata": {},
   "outputs": [],
   "source": [
    "시간 복잡도는O(n^2)"
   ]
  },
  {
   "cell_type": "markdown",
   "id": "7ad66232-8ac6-4f81-8a09-af78592922e4",
   "metadata": {},
   "source": [
    "## 5주차 실습 문제   \n",
    "### 예제 3.2"
   ]
  },
  {
   "cell_type": "markdown",
   "id": "1e4bb97b-1597-4763-82d5-e248f0067ee6",
   "metadata": {},
   "source": [
    "## 문제 정의"
   ]
  },
  {
   "cell_type": "code",
   "execution_count": null,
   "id": "f7ac732d-9424-4585-aa20-ece1f0be203b",
   "metadata": {},
   "outputs": [],
   "source": [
    "리스트에 n개의 항목이 들어 있다.\n",
    "이 리스트에서 \"탐색기\"를 가진 항목을 찾아라.\n",
    "만약 찾는 항목이 있으면 그 항목의 인덱스를 반환하고, 없으면 -1을 반환하라.\n",
    "단, 리스트의 항목들은 정렬되어 있지 않다."
   ]
  },
  {
   "cell_type": "markdown",
   "id": "5e4640bd-3d16-48e9-ae3c-4640b1f3e778",
   "metadata": {},
   "source": [
    "## 알고리즘 개요"
   ]
  },
  {
   "cell_type": "code",
   "execution_count": null,
   "id": "14d1d778-e5b3-497f-8182-7a2493ed2eb2",
   "metadata": {},
   "outputs": [],
   "source": [
    "입력 리스트의 첫 항목부터 순서대로 하나씩 탐색키와 비교한다."
   ]
  },
  {
   "cell_type": "markdown",
   "id": "b335c302-2bb9-4a79-8c0a-68a7febae318",
   "metadata": {},
   "source": [
    "# 알고리즘 설명"
   ]
  },
  {
   "cell_type": "code",
   "execution_count": 12,
   "id": "1d1f0cd0-fbb1-44fc-9adb-2deb01fc3747",
   "metadata": {},
   "outputs": [
    {
     "ename": "SyntaxError",
     "evalue": "invalid syntax (3523252321.py, line 1)",
     "output_type": "error",
     "traceback": [
      "\u001b[1;36m  Cell \u001b[1;32mIn[12], line 1\u001b[1;36m\u001b[0m\n\u001b[1;33m    정수를 키보드 입력으로 받고 그 받은 데이터 값을 LIST1 안에 이\u001b[0m\n\u001b[1;37m        ^\u001b[0m\n\u001b[1;31mSyntaxError\u001b[0m\u001b[1;31m:\u001b[0m invalid syntax\n"
     ]
    }
   ],
   "source": [
    "정수를 키보드 입력으로 받고 그 받은 데이터 값을 LIST1 안에 있는 인덱스 번호의 데이터 값이 같다면 인덱스 번호 반환 아니라면 -1반환\n",
    "(순차 탐색)"
   ]
  },
  {
   "cell_type": "markdown",
   "id": "155f6ac6-424b-4f6f-aa6d-2332ea50be91",
   "metadata": {},
   "source": [
    "## 알고리즘 코드"
   ]
  },
  {
   "cell_type": "code",
   "execution_count": 6,
   "id": "1a17ee9a-2f3d-418e-b187-59f2e3c5825b",
   "metadata": {},
   "outputs": [
    {
     "name": "stdin",
     "output_type": "stream",
     "text": [
      "정수를 하나 적어주세요 15\n"
     ]
    },
    {
     "name": "stdout",
     "output_type": "stream",
     "text": [
      "4\n"
     ]
    }
   ],
   "source": [
    "def sequential_search(A,key): //함수의 매개변수 정의\n",
    "    for i in range(len(A)):  //i부터 A의 길이 만큼 반복\n",
    "        if A[i]==key:  //만약 A의 인덱스가 데이터 값과 같다면 \n",
    "            return i    // A의 인덱스 값을 반환\n",
    "    return -1      //만약 A의 데이터 값 중에 없다면 -1을 반환"
   ]
  },
  {
   "cell_type": "markdown",
   "id": "59965adf-1b64-4f48-9e9c-82f5ee3d7b8e",
   "metadata": {},
   "source": [
    "## 테스트 코드"
   ]
  },
  {
   "cell_type": "code",
   "execution_count": null,
   "id": "0261e79c-57c9-4a54-a710-032307fcde55",
   "metadata": {},
   "outputs": [],
   "source": [
    "list1=[1,2,8,7,15,30,21]   // 리스트 1에 데이터 값 저장\n",
    "a=int(input(\"정수를 하나 적어주세요\"))  // \n",
    "number=sequential_search(list1,a)\n",
    "print(number)"
   ]
  },
  {
   "cell_type": "markdown",
   "id": "e72ce863-6843-45cc-8c85-77410f763110",
   "metadata": {},
   "source": [
    "## 수행결과"
   ]
  },
  {
   "attachments": {
    "a1cc0a98-39d7-4523-8db3-4d284c95859f.PNG": {
     "image/png": "[encoded data removed]"
    }
   },
   "cell_type": "markdown",
   "id": "feecaa08-38de-4409-ba4b-ac605115c2e1",
   "metadata": {},
   "source": [
    "![2.PNG](attachment:a1cc0a98-39d7-4523-8db3-4d284c95859f.PNG)"
   ]
  },
  {
   "cell_type": "markdown",
   "id": "e4ba1943-f400-4b0f-b627-ad2d177bb44f",
   "metadata": {},
   "source": [
    "## 시간복잡도"
   ]
  },
  {
   "cell_type": "code",
   "execution_count": null,
   "id": "97e9dac9-cf99-47f9-90b8-7511c69a9458",
   "metadata": {},
   "outputs": [],
   "source": [
    "시간 복잡도는 for문이 한개 있으므로 O(n)"
   ]
  },
  {
   "cell_type": "markdown",
   "id": "e40dbaa7-5f49-427d-bc15-c5853bb4aad0",
   "metadata": {},
   "source": [
    "### 5주차 실습 문제 \n",
    "### 예제 3.3"
   ]
  },
  {
   "cell_type": "markdown",
   "id": "0f32b52c-8df9-4b8c-8ea5-a522b776759a",
   "metadata": {},
   "source": [
    "## 문제 정의"
   ]
  },
  {
   "cell_type": "code",
   "execution_count": null,
   "id": "87a7c37c-c784-47d8-8869-4b8be71aa9ba",
   "metadata": {},
   "outputs": [],
   "source": [
    "길이가 n인 입력 문자열 T와 길이가 m인 패턴 문자열 P가 있다. \n",
    "T에서 가장 먼저 나타는 P의 위치를 찾아라\n",
    "패턴이 없으면 -1을 반환하라."
   ]
  },
  {
   "cell_type": "markdown",
   "id": "ce678fdd-55e5-4212-bff5-3b386dd5cc59",
   "metadata": {},
   "source": [
    "## 알고리즘 개요"
   ]
  },
  {
   "cell_type": "code",
   "execution_count": null,
   "id": "40813ccc-60ab-49d4-bf0b-c501fa483bc6",
   "metadata": {},
   "outputs": [],
   "source": [
    "텍스트의 첫 번째 문자 위치에 패턴을 놓고 비교한다.\n",
    "이 과정을 오른쪽으로 한 칸씩 옮기면서 성공한 매칭이 나타날 때까지 반복한다"
   ]
  },
  {
   "cell_type": "markdown",
   "id": "8527bd09-4778-4b20-b76b-df3ae01a30e7",
   "metadata": {},
   "source": [
    "## 알고리즘 설명"
   ]
  },
  {
   "cell_type": "markdown",
   "id": "fd3fe4f5-4609-4846-9252-19641b7c9dad",
   "metadata": {},
   "source": []
  },
  {
   "cell_type": "code",
   "execution_count": 12,
   "id": "4133e4c7-086d-4d3d-9498-5d7037ba6922",
   "metadata": {},
   "outputs": [
    {
     "name": "stdout",
     "output_type": "stream",
     "text": [
      "LO in HELLO WORLD --> 3\n",
      "HI in HELLO WORLD --> -1\n"
     ]
    }
   ],
   "source": [
    "def string_matching(T, P):\n",
    "    n = len(T)\n",
    "    m = len(P)\n",
    "    for i in range(n - m + 1):\n",
    "        j = 0\n",
    "        while j < m and P[j] == T[i + j]:\n",
    "            j = j + 1\n",
    "        if j == m:\n",
    "            return i\n",
    "    return -1  "
   ]
  },
  {
   "cell_type": "markdown",
   "id": "a5391816-45dc-4539-8f74-c2bc1aaec98d",
   "metadata": {},
   "source": [
    "## 테스트 코드"
   ]
  },
  {
   "cell_type": "code",
   "execution_count": 5,
   "id": "5688fb8e-e30f-425d-af68-5e740d3fb225",
   "metadata": {},
   "outputs": [
    {
     "ename": "NameError",
     "evalue": "name 'string_matching' is not defined",
     "output_type": "error",
     "traceback": [
      "\u001b[1;31m---------------------------------------------------------------------------\u001b[0m",
      "\u001b[1;31mNameError\u001b[0m                                 Traceback (most recent call last)",
      "Cell \u001b[1;32mIn[5], line 3\u001b[0m\n\u001b[0;32m      1\u001b[0m text\u001b[38;5;241m=\u001b[39m\u001b[38;5;124m\"\u001b[39m\u001b[38;5;124mHELLO WORLD\u001b[39m\u001b[38;5;124m\"\u001b[39m\n\u001b[0;32m      2\u001b[0m pattern\u001b[38;5;241m=\u001b[39m\u001b[38;5;124m\"\u001b[39m\u001b[38;5;124mLO\u001b[39m\u001b[38;5;124m\"\u001b[39m\n\u001b[1;32m----> 3\u001b[0m \u001b[38;5;28mprint\u001b[39m(pattern,\u001b[38;5;124m'\u001b[39m\u001b[38;5;124min\u001b[39m\u001b[38;5;124m'\u001b[39m,text,\u001b[38;5;124m'\u001b[39m\u001b[38;5;124m-->\u001b[39m\u001b[38;5;124m'\u001b[39m,string_matching(text, pattern))\n\u001b[0;32m      4\u001b[0m pattern\u001b[38;5;241m=\u001b[39m\u001b[38;5;124m'\u001b[39m\u001b[38;5;124mHI\u001b[39m\u001b[38;5;124m'\u001b[39m\n\u001b[0;32m      5\u001b[0m \u001b[38;5;28mprint\u001b[39m(pattern,\u001b[38;5;124m'\u001b[39m\u001b[38;5;124min\u001b[39m\u001b[38;5;124m'\u001b[39m,text,\u001b[38;5;124m'\u001b[39m\u001b[38;5;124m-->\u001b[39m\u001b[38;5;124m'\u001b[39m,string_matching(text, pattern))\n",
      "\u001b[1;31mNameError\u001b[0m: name 'string_matching' is not defined"
     ]
    }
   ],
   "source": [
    "text = \"HELLO WORLD\"\n",
    "pattern = \"LO\"\n",
    "print(pattern, 'in', text, '-->', string_matching(text, pattern))\n",
    "pattern = \"HI\"\n",
    "print(pattern, 'in', text, '-->', string_matching(text, pattern))"
   ]
  },
  {
   "cell_type": "markdown",
   "id": "a6fdca7e-2f71-47db-bd40-c831debda72c",
   "metadata": {},
   "source": [
    "## 수행결과"
   ]
  },
  {
   "attachments": {
    "69c1beea-fb5f-4163-968a-8502fc45c7c1.PNG": {
     "image/png": "[encoded data removed]"
    }
   },
   "cell_type": "markdown",
   "id": "06bfbc70-64fa-458a-b83d-f5ca8761361d",
   "metadata": {},
   "source": [
    "![1.PNG](attachment:69c1beea-fb5f-4163-968a-8502fc45c7c1.PNG)"
   ]
  },
  {
   "cell_type": "code",
   "execution_count": null,
   "id": "25b75153-165b-4874-9a64-cea2a0a3cc13",
   "metadata": {},
   "outputs": [],
   "source": [
    "시간 복잡도는 O(nm)"
   ]
  },
  {
   "cell_type": "markdown",
   "id": "b035cffa-ab80-4efb-83cc-a25d559f89b9",
   "metadata": {},
   "source": [
    "### 5주차 실습 문제\n",
    "### 예제 3.4"
   ]
  },
  {
   "cell_type": "markdown",
   "id": "7cd9ecd7-9f61-4e5d-9eaf-7bd070774f64",
   "metadata": {},
   "source": [
    "## 문제 정의"
   ]
  },
  {
   "cell_type": "code",
   "execution_count": null,
   "id": "24c4c0b9-8b41-4abb-8099-df1659383366",
   "metadata": {},
   "outputs": [],
   "source": [
    "2차원 평면상에 n개의 점이 있다.\n",
    "가장 인접한 쌍의 거리를 구하라"
   ]
  },
  {
   "cell_type": "markdown",
   "id": "76eb0c2f-bb89-4679-8f17-d90e521cef51",
   "metadata": {},
   "source": [
    "## 알고리즘 개요"
   ]
  },
  {
   "cell_type": "code",
   "execution_count": null,
   "id": "8708a802-e129-4fa2-a3d4-6b8234a111ea",
   "metadata": {},
   "outputs": [],
   "source": [
    "가능한 모든 점의 쌍(p1,p2)에 대해 거리를 계산하고, 가장 짧은 것을 찾는다."
   ]
  },
  {
   "cell_type": "markdown",
   "id": "42616d3f-caee-4996-a2e2-982826086ccf",
   "metadata": {},
   "source": [
    "## 알고리즘 설명"
   ]
  },
  {
   "cell_type": "code",
   "execution_count": null,
   "id": "a925c792-c40d-4e72-881a-398f4fad7ebd",
   "metadata": {},
   "outputs": [],
   "source": [
    "두 점 사이의 최소 거리의 데이터 값을 저장한 변수를 출력"
   ]
  },
  {
   "cell_type": "markdown",
   "id": "b310d250-2c2e-4ea1-bdfb-e001101ca924",
   "metadata": {},
   "source": [
    "## 손으로 푼 예제"
   ]
  },
  {
   "cell_type": "code",
   "execution_count": null,
   "id": "307b3ac9-88c6-4c33-92b7-7273555c6bc3",
   "metadata": {},
   "outputs": [],
   "source": []
  },
  {
   "cell_type": "markdown",
   "id": "b9bfa1fe-c050-4683-8e33-06664faef27e",
   "metadata": {},
   "source": [
    "## 알고리즘 코드"
   ]
  },
  {
   "cell_type": "code",
   "execution_count": 11,
   "id": "caff2ac4-9ada-43f4-b2f0-56a636f745dc",
   "metadata": {},
   "outputs": [
    {
     "name": "stdout",
     "output_type": "stream",
     "text": [
      "최근접 거리 1.4142135623730951\n"
     ]
    }
   ],
   "source": [
    "import math\n",
    "def distance(p1,p2):\n",
    "    return math.sqrt((p1[0]-p2[0])**2+(p1[1]-p2[1])**2)// 두 점 사이의 거리 공식의 데이터 값을 반환\n",
    "def closest_pair(p):\n",
    "    n=len(p)\n",
    "    mindist=float(\"inf\") //INF는 \"무한대\"를 의미하는 표기법\n",
    "    for i in range(n-1): \n",
    "        for j in range(i+1,n):\n",
    "            dist=distance(p[i],p[j]) //위의 있는 반복문은 0부터 시작하지만 아래에 있는 J는 0부터 시작해서 I보다 무조건 1크게 \n",
    "            if dist<mindist:  //만약 dist가 mindist보다 작다면\n",
    "                mindist=dist // 당연히 mindist에 dist를 저장 그 이유는 두점 사이의 최소 거리를 구하는 것이기 때문\n",
    "    return mindist //반복문이 끝나면 두점 사이의 최소 거리를 저장한 mindist를 반환\n",
    "\n"
   ]
  },
  {
   "cell_type": "markdown",
   "id": "6f704a64-eff2-486c-80bb-f6479d8bb9b6",
   "metadata": {},
   "source": [
    "## 테스트 코드"
   ]
  },
  {
   "cell_type": "code",
   "execution_count": null,
   "id": "21f18346-f204-4b45-9fec-3325be062b1e",
   "metadata": {},
   "outputs": [],
   "source": [
    "p=[(2,3),(12,30),(40,50),(5,1),(12,10),(3,4)]\n",
    "print(\"최근접 거리\",closest_pair(p))"
   ]
  },
  {
   "cell_type": "markdown",
   "id": "ce51d993-b78a-450b-8369-27d9365c483d",
   "metadata": {},
   "source": [
    "## 수행결과"
   ]
  },
  {
   "attachments": {
    "3c1adb46-9037-4c01-946a-b174e3a4345a.PNG": {
     "image/png": "[encoded data removed]"
    }
   },
   "cell_type": "markdown",
   "id": "0326eee8-a611-4e86-b962-b29230f4b58a",
   "metadata": {},
   "source": [
    "![캡처.PNG](attachment:3c1adb46-9037-4c01-946a-b174e3a4345a.PNG)"
   ]
  },
  {
   "cell_type": "code",
   "execution_count": null,
   "id": "bf4e32b2-ff73-4d9b-8583-5ab94148e3b3",
   "metadata": {},
   "outputs": [],
   "source": [
    "시간 복잡도는O(n^2)"
   ]
  }
 ],
 "metadata": {
  "kernelspec": {
   "display_name": "Python 3 (ipykernel)",
   "language": "python",
   "name": "python3"
  },
  "language_info": {
   "codemirror_mode": {
    "name": "ipython",
    "version": 3
   },
   "file_extension": ".py",
   "mimetype": "text/x-python",
   "name": "python",
   "nbconvert_exporter": "python",
   "pygments_lexer": "ipython3",
   "version": "3.11.7"
  }
 },
 "nbformat": 4,
 "nbformat_minor": 5
}
