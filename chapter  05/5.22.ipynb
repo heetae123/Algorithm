{
 "cells": [
  {
   "cell_type": "markdown",
   "id": "3e05eb86-960f-48de-9763-fd73dc7cbbf0",
   "metadata": {},
   "source": [
    "# 5.22"
   ]
  },
  {
   "cell_type": "markdown",
   "id": "b5a67b7f-d67d-4093-b2d3-e74503421267",
   "metadata": {},
   "source": [
    "### closest_pair_dist() 알고리즘이 O(n^2)이지만 이 부분을 O(nlogn)으로 개선해보자"
   ]
  },
  {
   "cell_type": "code",
   "execution_count": 1,
   "id": "5d9dbe5f-4830-49a6-9686-4a94abdcc6c1",
   "metadata": {},
   "outputs": [
    {
     "name": "stdout",
     "output_type": "stream",
     "text": [
      "The smallest distance is 0.8246211251235319\n"
     ]
    }
   ],
   "source": [
    "import math\n",
    "\n",
    "def closest_pair(P):\n",
    "    min_dist = math.inf\n",
    "    for i in range(len(P)):\n",
    "        for j in range(i+1, len(P)):\n",
    "            dist = math.dist(P[i], P[j])\n",
    "            if dist < min_dist:\n",
    "                min_dist = dist\n",
    "    return min_dist\n",
    "\n",
    "def strip_closest(Pm, d):\n",
    "    min_dist = d\n",
    "    Pm.sort(key=lambda point: point[1]) \n",
    "\n",
    "    for i in range(len(Pm)):\n",
    "        for j in range(i+1, len(Pm)):\n",
    "            if (Pm[j][1] - Pm[i][1]) >= min_dist:\n",
    "                break\n",
    "            dist = math.dist(Pm[i], Pm[j])\n",
    "            if dist < min_dist:\n",
    "                min_dist = dist\n",
    "\n",
    "    return min_dist\n",
    "\n",
    "def closest_pair_dist(P, n):\n",
    "    if n <= 3:\n",
    "        return closest_pair(P)\n",
    "\n",
    "    mid = n // 2\n",
    "    mid_x = P[mid][0]\n",
    "\n",
    "   \n",
    "    dl = closest_pair_dist(P[:mid], mid)\n",
    "    dr = closest_pair_dist(P[mid:], n - mid)\n",
    "    d = min(dl, dr)\n",
    "\n",
    "   \n",
    "    Pm = []\n",
    "    for i in range(n):\n",
    "        if abs(P[i][0] - mid_x) < d:\n",
    "            Pm.append(P[i])\n",
    "\n",
    "    \n",
    "    ds = strip_closest(Pm, d)\n",
    "\n",
    "    return min(d, ds)\n",
    "\n",
    "\n",
    "def closest_pair_main(P):\n",
    "    P.sort(key=lambda point: point[0]) \n",
    "    return closest_pair_dist(P, len(P))\n",
    "\n",
    "\n",
    "points = [(2.1, 3.4), (5.3, 4.1), (3.3, 1.5), (1.1, 2.2), (6.1, 3.9)]\n",
    "print(\"The smallest distance is\", closest_pair_main(points))"
   ]
  },
  {
   "cell_type": "markdown",
   "id": "155ad4a1-e779-474b-8e1a-4075f818c2eb",
   "metadata": {},
   "source": [
    "### 분석"
   ]
  },
  {
   "cell_type": "code",
   "execution_count": 2,
   "id": "31da2ed1-36ad-457e-ae7c-bd707ecf647a",
   "metadata": {},
   "outputs": [],
   "source": [
    "def closest_pair(P):\n",
    "    min_dist = math.inf\n",
    "    for i in range(len(P)):\n",
    "        for j in range(i+1, len(P)):\n",
    "            dist = math.dist(P[i], P[j])\n",
    "            if dist < min_dist:\n",
    "                min_dist = dist\n",
    "    return min_dist"
   ]
  },
  {
   "cell_type": "markdown",
   "id": "f2798a44-5d34-460e-ad65-90a75f3b96b0",
   "metadata": {},
   "source": [
    "세 점 이하의 경우 모든 쌍을 비교하여 최소 거리를 찾는 부분이다."
   ]
  },
  {
   "cell_type": "markdown",
   "id": "aad2243c-72bd-47ad-bceb-c9ca1338f8ca",
   "metadata": {},
   "source": [
    "## closest_pair()에서 정렬을 한 코드"
   ]
  },
  {
   "cell_type": "code",
   "execution_count": 4,
   "id": "c9b12f58-a155-422f-91fd-094b07b92633",
   "metadata": {},
   "outputs": [],
   "source": [
    "def closest_pair(p):\n",
    "    n=len(p)\n",
    "    mindist=float(\"inf\")\n",
    "    for i in range(n-1):\n",
    "        for j in range(i+1,n):\n",
    "            dist = distance(p[i],p[j])\n",
    "            if dist < mindist:\n",
    "                mindist = dist\n",
    "    return mindist\n"
   ]
  },
  {
   "cell_type": "markdown",
   "id": "bcb41901-da91-491e-8702-8c75a09c861c",
   "metadata": {},
   "source": [
    "## closest_pair()에서 정렬을 하지 않은 코드 "
   ]
  },
  {
   "cell_type": "code",
   "execution_count": 3,
   "id": "b71caf62-53f9-4ba9-9bcf-5ad736a5d630",
   "metadata": {},
   "outputs": [],
   "source": [
    "def closest_pair_main(P):\n",
    "    P.sort(key=lambda point: point[0]) \n",
    "    return closest_pair_dist(P, len(P))"
   ]
  },
  {
   "cell_type": "markdown",
   "id": "7b051124-2ab5-4dd3-bc84-87e10ea66a81",
   "metadata": {},
   "source": [
    "이 부분에서 먼저 정렬을 하고 closest_pair()에서 정렬을 하지 않기 때문에 O(n)으로 처리 된다\n",
    "(이 부분에선 대신 함수가 하나 늘 수 밖에 없다.)\n",
    "따라서 전체 알고리즘의 복잡도는 O(nlogn)이 될 수 있는 것이고,\n",
    "정렬을 먼저 하지 않고 closest_pair()에서 정렬을 하면 더 높은 시간 복잡도를 갖을 것이다"
   ]
  }
 ],
 "metadata": {
  "kernelspec": {
   "display_name": "Python 3 (ipykernel)",
   "language": "python",
   "name": "python3"
  },
  "language_info": {
   "codemirror_mode": {
    "name": "ipython",
    "version": 3
   },
   "file_extension": ".py",
   "mimetype": "text/x-python",
   "name": "python",
   "nbconvert_exporter": "python",
   "pygments_lexer": "ipython3",
   "version": "3.11.7"
  }
 },
 "nbformat": 4,
 "nbformat_minor": 5
}
