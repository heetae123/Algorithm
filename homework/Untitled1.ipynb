{
 "cells": [
  {
   "cell_type": "markdown",
   "id": "7937adb4-50e6-4e01-8f55-de5e4d5751e6",
   "metadata": {},
   "source": [
    "# 4장 (축소 기법)"
   ]
  },
  {
   "cell_type": "markdown",
   "id": "e0f6c044-db6f-458e-a2fb-07a6a7b9e884",
   "metadata": {},
   "source": [
    "## 공부한 내용"
   ]
  },
  {
   "cell_type": "markdown",
   "id": "8b243117-2cc5-4fd3-972e-124b2a36bf65",
   "metadata": {},
   "source": [
    "주어진 문제를 해결하기 위해 적은 문제간의 관계를 이용한 전략\n",
    "축소 기법에는 크게 하향식과 상향식으로 나누어져 있다.\n",
    "하향식은 순환구조를 많이 쓰고 상향식은 반복 구조를 많이 쓰고 있다.\n"
   ]
  },
  {
   "cell_type": "markdown",
   "id": "e6c98688-67e2-49db-a820-2b58a4c36d1a",
   "metadata": {},
   "source": [
    "## 1)문제 정의(상향식)"
   ]
  },
  {
   "cell_type": "markdown",
   "id": "81e96a6d-9237-4570-8be4-ad1a708acbec",
   "metadata": {},
   "source": [
    "반복 구조로 사용"
   ]
  },
  {
   "cell_type": "markdown",
   "id": "c3742237-ee4a-4b43-9e7a-3dd4042b11cb",
   "metadata": {},
   "source": [
    "## 알고리즘 개요"
   ]
  },
  {
   "cell_type": "markdown",
   "id": "396e620f-bc94-450a-adb3-f504b3753a93",
   "metadata": {},
   "source": [
    "반복 구조를 통해 문제의 크기를 줄어 들게 한다."
   ]
  },
  {
   "cell_type": "markdown",
   "id": "58e7a4e9-47fc-472d-84ac-8b9b662f33a1",
   "metadata": {},
   "source": [
    "## 알고리즘 설명"
   ]
  },
  {
   "cell_type": "markdown",
   "id": "2d19ab60-10ed-40bd-a994-3e2604eb3573",
   "metadata": {},
   "source": [
    "반복 구조를 통해 한 변수에 반복적으로 계산하여 반환한다."
   ]
  },
  {
   "cell_type": "markdown",
   "id": "d0e9912c-a842-4dbe-97ba-48a935350f33",
   "metadata": {},
   "source": [
    "## 알고리즘 코드"
   ]
  },
  {
   "cell_type": "code",
   "execution_count": 4,
   "id": "90bd4050-1a2d-4b33-a09a-ea81755044d9",
   "metadata": {},
   "outputs": [],
   "source": [
    "def factor(n):\n",
    "    result=1\n",
    "    for i in range(1,n+1):\n",
    "        result=result*i\n",
    "    return result"
   ]
  },
  {
   "cell_type": "markdown",
   "id": "7bfe30c6-429a-4d07-9094-9dcb5f0abd1f",
   "metadata": {},
   "source": [
    "## 테스트 코드"
   ]
  },
  {
   "cell_type": "code",
   "execution_count": null,
   "id": "6c15ba40-cb76-410e-a85d-1657439a969f",
   "metadata": {},
   "outputs": [],
   "source": [
    "p=int(input(\"정수를 입력하시오\"))\n",
    "n=factor(p)\n",
    "print(n)"
   ]
  },
  {
   "cell_type": "markdown",
   "id": "f2431609-bf3b-4741-8d5d-f2505619f4e2",
   "metadata": {},
   "source": [
    "## 실행 결과"
   ]
  },
  {
   "attachments": {
    "9a58e5da-f2b4-4bfa-949e-6e23b51ed887.PNG": {
     "image/png": "[encoded data removed]"
    }
   },
   "cell_type": "markdown",
   "id": "cee1eb51-7871-4365-8593-1792fc9e1bad",
   "metadata": {},
   "source": [
    "![캡처.PNG](attachment:9a58e5da-f2b4-4bfa-949e-6e23b51ed887.PNG)"
   ]
  },
  {
   "cell_type": "markdown",
   "id": "e7a348ea-97f7-4931-b5dd-cbbfc4b323bd",
   "metadata": {},
   "source": [
    "## 손으로 푼 예제"
   ]
  },
  {
   "cell_type": "code",
   "execution_count": null,
   "id": "710e7c3c-f2e9-4b8b-b6a4-6addb5928443",
   "metadata": {},
   "outputs": [],
   "source": []
  },
  {
   "cell_type": "markdown",
   "id": "36767a9e-a3ea-491c-8eef-30e53158f7fc",
   "metadata": {},
   "source": [
    "## 시간 복잡도"
   ]
  },
  {
   "cell_type": "markdown",
   "id": "f7673247-2e68-436f-bf10-4e52de11ad2b",
   "metadata": {},
   "source": [
    "O(n)"
   ]
  },
  {
   "cell_type": "markdown",
   "id": "cb3ebe27-9308-418e-b4a2-ef67bcdebefa",
   "metadata": {},
   "source": [
    "## 2)문제 정의(하향식)"
   ]
  },
  {
   "cell_type": "markdown",
   "id": "c73a82a4-4bbc-4dc0-ab48-b334f3c6ad1e",
   "metadata": {},
   "source": [
    "순환 구조로 사용"
   ]
  },
  {
   "cell_type": "markdown",
   "id": "886cc6fc-7bee-445a-b348-765e7ccfef5f",
   "metadata": {},
   "source": [
    "## 알고리즘 개요"
   ]
  },
  {
   "cell_type": "markdown",
   "id": "c28ac1e0-946e-4100-b93c-7f13ee5c3c83",
   "metadata": {},
   "source": [
    "순환 구조를 통해 문제의 크기를 (n-1)로 줄어 들게 한다."
   ]
  },
  {
   "cell_type": "markdown",
   "id": "9297929a-cb1d-4c47-8a96-644b67097bff",
   "metadata": {},
   "source": [
    "## 알고리즘 설명"
   ]
  },
  {
   "cell_type": "markdown",
   "id": "a1ec12f8-e635-41ae-8a06-0ee19b4eecc4",
   "metadata": {},
   "source": [
    "순환 구조를 통해 한 변수에 반복적으로 계산하여 반환한다."
   ]
  },
  {
   "cell_type": "markdown",
   "id": "a297b1af-0abe-45da-988d-1f3680ff5eb5",
   "metadata": {},
   "source": [
    "## 알고리즘 코드"
   ]
  },
  {
   "cell_type": "code",
   "execution_count": null,
   "id": "aea2f7b9-95ca-414e-bb91-7d4154b3b699",
   "metadata": {},
   "outputs": [],
   "source": [
    "def factor(n):\n",
    "    if n==1:\n",
    "        return 1\n",
    "    else:\n",
    "        return(n*factor(n-1))"
   ]
  },
  {
   "cell_type": "markdown",
   "id": "6e6b08ff-cc50-4cb8-b488-d656db0cd043",
   "metadata": {},
   "source": [
    "## 테스트 코드"
   ]
  },
  {
   "cell_type": "code",
   "execution_count": 10,
   "id": "51d75e4f-f283-44d9-9318-1bb416d88972",
   "metadata": {},
   "outputs": [
    {
     "name": "stdin",
     "output_type": "stream",
     "text": [
      "정수를 입력하시오 5\n"
     ]
    },
    {
     "name": "stdout",
     "output_type": "stream",
     "text": [
      "120\n"
     ]
    }
   ],
   "source": [
    "def factorial(n):\n",
    "    if n < 0:\n",
    "        return \"음수의 팩토리얼은 정의되지 않습니다.\"\n",
    "    elif n == 0 or n == 1:\n",
    "        return 1\n",
    "    else:\n",
    "        return n * factorial(n - 1)\n",
    "\n",
    "num=int(input(\"정수를 입력하시오\"))\n",
    "number=factorial(num)\n",
    "print(number)"
   ]
  },
  {
   "cell_type": "markdown",
   "id": "fc25bb70-63e7-4738-b56c-15fc04a57f69",
   "metadata": {},
   "source": [
    "## 실행 결과"
   ]
  },
  {
   "attachments": {
    "f5fc5aa8-3f5a-4548-ba1c-572cf561dfa3.PNG": {
     "image/png": "[encoded data removed]"
    }
   },
   "cell_type": "markdown",
   "id": "1f6c9407-c414-4f6c-b959-a4356a1c5185",
   "metadata": {},
   "source": [
    "![캡처1.PNG](attachment:f5fc5aa8-3f5a-4548-ba1c-572cf561dfa3.PNG)"
   ]
  },
  {
   "cell_type": "markdown",
   "id": "25f9fbd0-9434-45ca-aaa1-f3bfe8179ee2",
   "metadata": {},
   "source": [
    "## 시간복잡도"
   ]
  },
  {
   "cell_type": "markdown",
   "id": "0488e21e-de57-48a9-8d1b-c96c89abcb52",
   "metadata": {},
   "source": [
    "O(n!)"
   ]
  },
  {
   "cell_type": "markdown",
   "id": "2016d572-e922-4d7b-ae03-ab27c886c04a",
   "metadata": {},
   "source": [
    "## 손으로 푼 예제"
   ]
  },
  {
   "cell_type": "code",
   "execution_count": null,
   "id": "faa5d867-009b-46f0-b792-fd791c273de7",
   "metadata": {},
   "outputs": [],
   "source": []
  },
  {
   "cell_type": "code",
   "execution_count": null,
   "id": "951b0f79-cefc-42cd-b35a-272f12d7b88f",
   "metadata": {},
   "outputs": [],
   "source": []
  }
 ],
 "metadata": {
  "kernelspec": {
   "display_name": "Python 3 (ipykernel)",
   "language": "python",
   "name": "python3"
  },
  "language_info": {
   "codemirror_mode": {
    "name": "ipython",
    "version": 3
   },
   "file_extension": ".py",
   "mimetype": "text/x-python",
   "name": "python",
   "nbconvert_exporter": "python",
   "pygments_lexer": "ipython3",
   "version": "3.11.7"
  }
 },
 "nbformat": 4,
 "nbformat_minor": 5
}
